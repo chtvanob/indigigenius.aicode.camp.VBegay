{
 "cells": [
  {
   "cell_type": "markdown",
   "metadata": {},
   "source": [
    "# Classes and Object Oriented Programming\n",
    "\n",
    "**Learning Objectives**\n",
    "* Introduce classes and object oriented programming.\n",
    "* Practice interacting with and manipulating classes.\n",
    "\n",
    "Classes are a massive part of programming. They store values and can also contain specific functions related to the data."
   ]
  },
  {
   "cell_type": "code",
   "execution_count": null,
   "metadata": {},
   "outputs": [],
   "source": [
    "class MyFirstClass:\n",
    "\n",
    "    def __init__(self, num_1, num_2):\n",
    "        self.num_1 = num_1\n",
    "        self.num_2 = num_2\n",
    "    \n",
    "    def add_numbers(self):\n",
    "        return self.num_1 + self.num_2"
   ]
  },
  {
   "cell_type": "code",
   "execution_count": null,
   "metadata": {},
   "outputs": [],
   "source": [
    "# Create your own! What's your favorite animal? Give it some attributes and a class method."
   ]
  },
  {
   "cell_type": "markdown",
   "metadata": {},
   "source": [
    "## Inheritance\n",
    "\n",
    "Often, we use classes when we want to create lots of very similar things, like different kinds of animals.\n",
    "\n",
    "Classes can also be \"sub-classes\", or child classes, or derived classes from other classes like in the example below."
   ]
  },
  {
   "cell_type": "code",
   "execution_count": null,
   "metadata": {},
   "outputs": [],
   "source": []
  },
  {
   "cell_type": "raw",
   "metadata": {},
   "source": [
    "class Animal:\n",
    "\n",
    "    def __init__(self, number_of_legs, does_it_fly, mammal, claws, weight):\n",
    "        self.number_of_legs = number_of_legs\n",
    "        self.does_it_fly = does_it_fly\n",
    "        self.mammal = mammal\n",
    "        self.claws = claws\n",
    "        self.weight = weight\n",
    "\n",
    "    def eat(self, pounds):\n",
    "        self.weight += pounds\n",
    "\n",
    "    def sleep(self):\n",
    "        self.weight -= 5\n",
    "\n",
    "    def hunt(self):\n",
    "        self.weight -= 5\n",
    "\n",
    "# caterpiller = Animal(100, False, False, Tre, 0.001)\n",
    "\n",
    "# print \"caterpiller's number of legs: \"+str(caterpiller.number_of_legs))\n",
    "\n",
    "# print \"caterpiller's a malal?:: \"+str(caterpiller.mamal))\n",
    "\n",
    "\n",
    "\n",
    "class Tiger(Animal):\n",
    "\n",
    "    def __init__(self, number_of_legs, does_it_fly, mammal, claws, weight, type, has_camo):\n",
    "        super().__init__(number_of_legs, does_it_fly, mammal, claws, weight)\n",
    "        self.type = type\n",
    "        self.has_camo = has_camo\n",
    "\n",
    "daniel = Tiger(4, False, True, True, 150, \"Bengal\", True)\n",
    "\n",
    "bob = Tiger(4, False, True, True, 200, \"Siberian\", True)\n",
    "\n",
    "print(daniel.weight)\n",
    "daniel.eat(20)\n",
    "print(daniel.weight)\n",
    "\n",
    "print(bob.weight)\n",
    "\n",
    "\n",
    "# Koala\n",
    "# additional attributes: type\n",
    "class Koala(Animal):\n",
    "\n",
    "    def __init__(self, number_of_legs, does_it_fly, mammal, claws, weight, type):\n",
    "        super().__init__(number_of_legs, does_it_fly, mammal, claws, weight)\n",
    "        self.type = type\n",
    "\n",
    "koa = Koala(4, False, Trye, True, 31, 'marsupial')\n",
    "\n",
    "koa.weight\n",
    "\n",
    "chuck = Koala (3, False, True, True, 25, 'marsupial')\n",
    "chuck.number_of-legs\n",
    "\n",
    "\n",
    "class Ferrett(Animal):\n",
    "\n",
    "    def __init__(self, number_of_legs, does_it_fly, mammal, claws, weight, intelligence, length):\n",
    "        super().__init__(number_of_legs, does_it_fly, mammal, claws, weight)\n",
    "        self.intelligence = intelligence\n",
    "        self.lenth = length\n",
    "\n",
    "    def reads(self, number_of_books):\n",
    "        self.intelligence = self.intelligence + number_of_books\n",
    "\n",
    "kitty = Ferret(4, False, True, True, 15, 5, 9)\n",
    "\n",
    "print(kittly.intelligence)\n",
    "kitty.reads(3)\n",
    "print(kittly.intelligence)\n"
   ]
  },
  {
   "cell_type": "markdown",
   "metadata": {},
   "source": [
    "<h1>Create a class for your own animal</h1>"
   ]
  },
  {
   "cell_type": "code",
   "execution_count": null,
   "metadata": {},
   "outputs": [],
   "source": []
  }
 ],
 "metadata": {
  "kernelspec": {
   "display_name": "Python 3 (ipykernel)",
   "language": "python",
   "name": "python3"
  },
  "language_info": {
   "codemirror_mode": {
    "name": "ipython",
    "version": 3
   },
   "file_extension": ".py",
   "mimetype": "text/x-python",
   "name": "python",
   "nbconvert_exporter": "python",
   "pygments_lexer": "ipython3",
   "version": "3.12.3"
  },
  "vscode": {
   "interpreter": {
    "hash": "369f2c481f4da34e4445cda3fffd2e751bd1c4d706f27375911949ba6bb62e1c"
   }
  }
 },
 "nbformat": 4,
 "nbformat_minor": 4
}
