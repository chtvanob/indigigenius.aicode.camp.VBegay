{
 "cells": [
  {
   "cell_type": "markdown",
   "id": "90af2a18-30bc-41d2-8138-f02f6c5a990d",
   "metadata": {},
   "source": [
    "# Data Collection Best Practices"
   ]
  },
  {
   "cell_type": "markdown",
   "id": "af07c72c-8234-4469-8bce-00977a0681a9",
   "metadata": {},
   "source": [
    "## How should we be collecting data?\n",
    "\n",
    "* Be respectful. Whatever you are collecting data on, be aware of what, or who, you are being disruptive to when collecting that data.\n",
    "* Write down what you’re taking a picture, then take a picture of that label so that we have a bookmark of all the images after that in the phone gallery.\n",
    "* As you take pictures, organize them into folders while we’re out in the field, this will make organizing much easier later on, not needed at all.\n",
    "* Use consistent name conventions on the phone and in our folders on the computer. Make your folder names understandable for yourself later. Don't rely on your memory.\n",
    "* Image variety is going to be important, so take a lot of photos.\n",
    "    * Use *burst mode* in the camera app. On android phones this can be done by holding down the `volume down` button, or holding and sliding the take picture button.\n",
    "    * Get images from different angles. As you are taking pictures using burst mode, move the phone around.\n",
    "    * Take pictures of different objects, but of the same type. So for plants, get pictures of multiple plants of the same species (they usually grow nearby).\n",
    "    * It’s ok if the pictures are blurry, but we do want some in focus.\n",
    "    * Get pictures with different backgrounds. If some of the plants are going near exposed dirt, and others are growing around a lot of grass, get images of both types.\n",
    "* Include some pictures with hands, shadows, and people.\n",
    "* Possibly held or in the ground/stationary.\n",
    "* Consider a category of images that is “background”."
   ]
  },
  {
   "cell_type": "markdown",
   "id": "774221ea-3384-480d-aa30-2df0d9e325d4",
   "metadata": {},
   "source": [
    "## Now go practice!!!\n",
    "\n",
    "Use this time to go around the classroom, or around the building, and practice taking burst mode pictures and placing them in folders.\n",
    "\n",
    "Is there anything we should modify in these best practices based on what you've tried?\n",
    "\n",
    "**What went well?**\n",
    "\n",
    "**What didn't go well?**\n",
    "\n",
    "**What would you change or improve?**"
   ]
  }
 ],
 "metadata": {
  "kernelspec": {
   "display_name": "Python 3 (ipykernel)",
   "language": "python",
   "name": "python3"
  },
  "language_info": {
   "codemirror_mode": {
    "name": "ipython",
    "version": 3
   },
   "file_extension": ".py",
   "mimetype": "text/x-python",
   "name": "python",
   "nbconvert_exporter": "python",
   "pygments_lexer": "ipython3",
   "version": "3.12.3"
  }
 },
 "nbformat": 4,
 "nbformat_minor": 5
}
