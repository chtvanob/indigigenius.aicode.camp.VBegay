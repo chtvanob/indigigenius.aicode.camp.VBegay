{
 "cells": [
  {
   "cell_type": "markdown",
   "id": "e44b87fb-ed66-4988-a200-94befb5b1732",
   "metadata": {},
   "source": [
    "# Installation Instructions"
   ]
  },
  {
   "cell_type": "markdown",
   "id": "a2c1b1a1-c4b5-4505-b565-ec10692ea448",
   "metadata": {},
   "source": [
    "Much of the processes and software used in the learning python unit will look the same, however, for this unit we will leveraging Docker containers to maintain a safe, and repeatable, environment to develop computer vision models."
   ]
  },
  {
   "cell_type": "markdown",
   "id": "2f097550-d35c-4962-a8f5-745ab3617fda",
   "metadata": {},
   "source": [
    "## Things that should already be installed, but here are some instructions if you don't have them"
   ]
  },
  {
   "cell_type": "markdown",
   "id": "21e624ca-bc5d-43fe-a1dc-b2ad74144555",
   "metadata": {},
   "source": [
    "### Windows Terminal\n",
    "\n",
    "Download `Windows Terminal` from the `Microsoft Store`."
   ]
  },
  {
   "cell_type": "markdown",
   "id": "b14f9bea-f0f2-49ff-a59b-f649f286dfd9",
   "metadata": {},
   "source": [
    "### Git\n",
    "\n",
    "Download and install `Git` ([https://git-scm.com/](https://git-scm.com/)). This should be automatically displayed on the picture of a screen."
   ]
  },
  {
   "cell_type": "markdown",
   "id": "98756918-e5fd-4f19-a602-780ab37c0a12",
   "metadata": {},
   "source": [
    "### GitHub Desktop\n",
    "\n",
    "Download and install `Github Desktop` [https://desktop.github.com/download/](https://desktop.github.com/download/).\n",
    "\n",
    "Once it is installed, login to your github account. If you have not already created a fork of this repository, you should do so and then clone the repository.\n"
   ]
  },
  {
   "cell_type": "markdown",
   "id": "18f8ff59-7b14-4b1e-8858-555a592af564",
   "metadata": {},
   "source": [
    "### VS Code\n",
    "\n",
    "Download and install `Visual Studio Code` [https://code.visualstudio.com/](https://code.visualstudio.com/).\n",
    "\n",
    "This software will be useful in dealing with any merge issues with github. VS Code is typically used to write software, however, we will be doing most of our work within Jupyter notebooks and will be contributing to your version of the repository using GitHub Desktop."
   ]
  },
  {
   "cell_type": "markdown",
   "id": "ae936a96-8253-4b17-8e6e-81c36098b23e",
   "metadata": {},
   "source": [
    "## Installations specifically for the Deep Learning unit"
   ]
  },
  {
   "cell_type": "markdown",
   "id": "02a16fab-4523-43af-af59-c92847e993be",
   "metadata": {},
   "source": [
    "### PowerToys\n",
    "\n",
    "Install `PowerToys` from the `Microsoft Store`.\n",
    "\n",
    "1. Open the `Microsoft Store` application\n",
    "1. Search for `Microsoft PowerToys`\n",
    "1. Click the `Get` or `Install` button to install `PowerToys`"
   ]
  },
  {
   "cell_type": "markdown",
   "id": "c4135a4c-bbfc-4822-872f-a09c890b9afa",
   "metadata": {},
   "source": [
    "### Windows Subsystem for Linux (WSL)\n",
    "\n",
    "`WSL` will allows us to run an instance of Linux on this Windows computer. The Windows environment is not well suited for working with the deep learning training software and libraries that we will use, so we will create a subsystem on the computer, called a container, to help us do this work. `WSL` is one component of creating that subsystem.\n",
    "\n",
    "1. The directions below should be valid, but always double check installation directions here: [Install WSL | Microsoft Docs](https://learn.microsoft.com/en-us/windows/wsl/install) (NOTE: you need to run powershell as an administrator!)\n",
    "    1. Open `Command Prompt` as `Administrator`. All sub-instructions below need to entered into the `Command Prompt` window.\n",
    "        1. Type `wsl –install` and press the `Enter` key\n",
    "        1. Type `wsl –install –d Ubuntu-22.04` and press the `Enter` key\n",
    "        1. Type `wsl -l`, and verify that Ubuntu 22.04 is listed\n",
    "1. Open `Microsoft Store` by clicking on the Start button and typing `Microsoft Store`\n",
    "1. In the search bar in `Microsoft Store`, search for `Ubuntu`\n",
    "1. Get `Ubuntu 22.04`\n"
   ]
  },
  {
   "cell_type": "markdown",
   "id": "7f251a29-4ccf-44ca-91b7-c23ecef1c514",
   "metadata": {},
   "source": [
    "### Perform Windows Updates\n",
    "\n",
    "We've just changed a lot of stuff about the computer system. Now is the time to ensure that the computer is completely up to date.\n",
    "\n",
    "1. Click on Windows Start Button and type “settings” into the search bar.\n",
    "1. Click on the Settings app.\n",
    "1. Click on the Windows Update tab on the left hand side.\n",
    "   1. NOTE: You may be asked to restart the computer multiple times during this stage. Take the time to ensure your computer is completely up to date.\n",
    "1. Click the Check for updates button until the computer is up to date.\n",
    "1. Ensure that WSL is completely up to date. In the `Command Prompt` application, running as `Administrator`, type and enter the `wsl -–update` command.\n",
    "1. Restart WSL if prompted by entering `wsl -–shutdown` in the `Command Prompt` application, running as `Administrator`."
   ]
  },
  {
   "cell_type": "markdown",
   "id": "cc6a9aa0-bf1c-4b34-9a6f-af9280fe8b3a",
   "metadata": {},
   "source": [
    "### Install CUDA Drivers\n",
    "\n",
    "Modern approaches to AI, Machine Learning, and Deep Learning are only possible using tools and resources that leverage the GPUs/graphics cards. In order to ensure we can access and use the GPUs on our computers, we want to ensure that the drivers for the GPU is up to date.\n",
    "\n",
    "1. Go to the [Official Drivers for Nvidia webpage](https://www.nvidia.com/Download/index.aspx?lang=en-us).\n",
    "1. Use the dropdown menus to select the correct driver for your GPU. The example selections below are for an Nvidia 4060 GPU on a laptop.\n",
    "   1. Product Type: *GeForce*\n",
    "   1. Product Series: *GeForce RTX 40 Series (Notebooks)*\n",
    "   1. Product: *GeForce RTX 4060 Laptop GPU*\n",
    "   1. Operating System: *Windows 11*\n",
    "   1. Download Type: *Game Ready Driver*\n",
    "   1. Language: *English (US)*\n",
    "1. Click on the `Search` button after selecting the criteria appropriate for your computer and download the file.\n",
    "1. Install the downloaded file, and click through the installation instructions to keep all default settings."
   ]
  },
  {
   "cell_type": "markdown",
   "id": "e25d307a-2bff-4ae6-b6c4-7ebeddfddadd",
   "metadata": {},
   "source": [
    "### Install Docker Desktop\n",
    "\n",
    "`Docker Desktop` is the software that will allow us to build and run containers on this machine.\n",
    "\n",
    "1. Click the `Download for Windows` button from the [Docker Desktop webpage](https://www.docker.com/products/docker-desktop/).\n",
    "1. Install `Docker Desktop` from the downloaded file.\n",
    "\n",
    "Next, we need to configure `Docker` to talk to our `WSL` installations correctly\n",
    "1. Open `Docker`.\n",
    "1. Click on the gear icon in the top right of the window. This will open settings.\n",
    "    1. In *General*, ensure that there is a checkmark next to the option: *Use the WSL 2 based engine (Windows Home can only run the WSL2 backend)*.\n",
    "       1. Note: This option should already be clicked and it should be greyed out.\n",
    "1. Click on *Resources* in the *Settings*, then select *WSL Integration*\n",
    "   1. Ensure *Enable integration with my default WSL distro* is checked. Also, ensure that any additional distros are turned on.\n"
   ]
  },
  {
   "cell_type": "markdown",
   "id": "c7e59f10-c445-4b3d-beb5-b00db11d1583",
   "metadata": {},
   "source": [
    "## Test Installations\n",
    "\n",
    "In `Terminal` run the following command:\n",
    "`docker run --gpus all nvcr.io/nvidia/k8s/cuda-sample:nbody nbody -gpu -benchmark`\n",
    "\n",
    "Successful output might show some things being downloaded with the final output looking like:  \n",
    "`> Windowed mode`  \n",
    "`> Simulation data stored in video memory`  \n",
    "`> Single precision floating point simulation`  \n",
    "`> 1 Devices used for simulation`  \n",
    "`GPU Device 0: \"Ampere\" with compute capability 8.6`  \n",
    "\n",
    "`> Compute 8.6 CUDA device: [NVIDIA GeForce RTX 3070 Ti Laptop GPU]`  \n",
    "`47104 bodies, total time for 10 iterations: 58.848 ms`  \n",
    "`= 377.035 billion interactions per second`  \n",
    "`= 7540.706 single-precision GFLOP/s at 20 flops per interaction`"
   ]
  },
  {
   "cell_type": "code",
   "execution_count": null,
   "id": "f2a58b64-65cb-4b1c-8bec-1d9be6600c53",
   "metadata": {},
   "outputs": [],
   "source": []
  }
 ],
 "metadata": {
  "kernelspec": {
   "display_name": "Python 3 (ipykernel)",
   "language": "python",
   "name": "python3"
  },
  "language_info": {
   "codemirror_mode": {
    "name": "ipython",
    "version": 3
   },
   "file_extension": ".py",
   "mimetype": "text/x-python",
   "name": "python",
   "nbconvert_exporter": "python",
   "pygments_lexer": "ipython3",
   "version": "3.12.3"
  }
 },
 "nbformat": 4,
 "nbformat_minor": 5
}
